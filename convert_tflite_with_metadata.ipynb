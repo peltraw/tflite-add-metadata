{
  "nbformat": 4,
  "nbformat_minor": 0,
  "metadata": {
    "colab": {
      "name": "convert_tflite_with_metadata.ipynb",
      "provenance": [],
      "collapsed_sections": []
    },
    "kernelspec": {
      "name": "python3",
      "display_name": "Python 3"
    },
    "accelerator": "GPU"
  },
  "cells": [
    {
      "cell_type": "markdown",
      "metadata": {
        "id": "L9kSCD2OrdRA",
        "colab_type": "text"
      },
      "source": [
        "# Setup"
      ]
    },
    {
      "cell_type": "markdown",
      "metadata": {
        "id": "RCed1WmWyY5N",
        "colab_type": "text"
      },
      "source": [
        "<table class=\"tfo-notebook-buttons\" align=\"left\">\n",
        "  <td>\n",
        "    <a target=\"_blank\" href=\"https://colab.research.google.com/github/peltraw/tflite-add-metadata/blob/master/convert_tflite_with_metadata.ipynb\">\n",
        "    <img src=\"https://www.tensorflow.org/images/colab_logo_32px.png\" />\n",
        "    Run in Google Colab</a>\n",
        "  </td>\n",
        "</table>\n",
        "\n"
      ]
    },
    {
      "cell_type": "code",
      "metadata": {
        "id": "pg8zuQ9PH-PG",
        "colab_type": "code",
        "colab": {}
      },
      "source": [
        "import os\n",
        "\n",
        "%cd /content\n",
        "if not os.path.isdir(\"tflite-add-metadata\"):\n",
        "  !git clone https://github.com/peltraw/tflite-add-metadata.git\n",
        "%cd tflite-add-metadata/"
      ],
      "execution_count": null,
      "outputs": []
    },
    {
      "cell_type": "code",
      "metadata": {
        "id": "fk0VDJ2BTwP9",
        "colab_type": "code",
        "colab": {}
      },
      "source": [
        "!pip install -r requirements.txt"
      ],
      "execution_count": null,
      "outputs": []
    },
    {
      "cell_type": "markdown",
      "metadata": {
        "id": "ocJOdNjArnGD",
        "colab_type": "text"
      },
      "source": [
        "# Metadata 생성"
      ]
    },
    {
      "cell_type": "code",
      "metadata": {
        "id": "6I2xga3vMh7M",
        "colab_type": "code",
        "colab": {}
      },
      "source": [
        "!pwd\n"
      ],
      "execution_count": null,
      "outputs": []
    },
    {
      "cell_type": "markdown",
      "metadata": {
        "id": "QdBBG4RwtYhV",
        "colab_type": "text"
      },
      "source": [
        "## 변환하고자 하는 모델과 label file 업로드"
      ]
    },
    {
      "cell_type": "code",
      "metadata": {
        "id": "ZX7JLqdDglrU",
        "colab_type": "code",
        "colab": {}
      },
      "source": [
        "#Edit your own model\n",
        "MODEL_NAME=\"rock_paper_scisor\"\n",
        "\n",
        "MODEL_PATH=f\"/content/tflite-add-metadata/model/{MODEL_NAME}_model.tflite\"\n",
        "LABEL_PATH=f\"/content/tflite-add-metadata/model/{MODEL_NAME}_labels.txt\"\n",
        "EXPORT_PATH=\"/content/tflite-add-metadata/output/\"\n",
        "\n",
        "if not os.path.isdir(EXPORT_PATH):\n",
        "  os.makedirs(EXPORT_PATH, exist_ok=True)\n",
        "\n",
        "if not os.path.isdir(MODEL_PATH):\n",
        "  print(f\"Upload your model file in {MODEL_PATH}\")\n",
        "\n",
        "if not os.path.isdir(LABEL_PATH):\n",
        "  print(f\"Upload your model file in {LABEL_PATH}\")"
      ],
      "execution_count": null,
      "outputs": []
    },
    {
      "cell_type": "markdown",
      "metadata": {
        "id": "r-9240eBrx29",
        "colab_type": "text"
      },
      "source": [
        "## 자신의 모델에 맞는  metadata write 파일 수정"
      ]
    },
    {
      "cell_type": "markdown",
      "metadata": {
        "id": "CXnD2pfPqJeo",
        "colab_type": "text"
      },
      "source": [
        "\n",
        "\n",
        "Update model info with your model\n",
        "\n",
        "\n",
        "\n",
        "```\n",
        "_MODEL_INFO = {\n",
        "    \"rock_paper_scisor_model.tflite\":\n",
        "        ModelSpecificInfo(\n",
        "            name=\"Rock paper scisor mobilenet\",\n",
        "            version=\"v1\",\n",
        "            image_width=224,\n",
        "            image_height=224,\n",
        "            image_min=0,\n",
        "            image_max=255,\n",
        "            mean=[127.5],\n",
        "            std=[127.5],\n",
        "            num_classes=3)\n",
        "}\n",
        "```\n",
        "\n",
        "\n",
        "\n"
      ]
    },
    {
      "cell_type": "code",
      "metadata": {
        "id": "RCt5jhiTHMwj",
        "colab_type": "code",
        "cellView": "both",
        "colab": {}
      },
      "source": [
        "!python ./model_with_metadata/metadata_writer_for_image_classifier.py \\\n",
        "--model_file={MODEL_PATH} \\\n",
        "--label_file={LABEL_PATH} \\\n",
        "--export_directory={EXPORT_PATH}"
      ],
      "execution_count": null,
      "outputs": []
    },
    {
      "cell_type": "markdown",
      "metadata": {
        "id": "o0nSj5sisGv9",
        "colab_type": "text"
      },
      "source": [
        "# 생성된 모델 확인"
      ]
    },
    {
      "cell_type": "code",
      "metadata": {
        "id": "xNPIS-TZR_3S",
        "colab_type": "code",
        "colab": {}
      },
      "source": [
        "import tensorflow as tf\n",
        "\n",
        "interpreter = tf.lite.Interpreter(model_path=f\"{EXPORT_PATH}{MODEL_NAME}_model.tflite\")\n",
        "interpreter.allocate_tensors()\n",
        "\n",
        "# Print input shape and type\n",
        "print(interpreter.get_input_details()[0]['shape'])  # Example: [1 224 224 3]\n",
        "print(interpreter.get_input_details()[0]['dtype'])  # Example: <class 'numpy.float32'>\n",
        "\n",
        "# Print output shape and type\n",
        "print(interpreter.get_output_details()[0]['shape'])  # Example: [1 1000]\n",
        "print(interpreter.get_output_details()[0]['dtype'])  # Example: <class 'numpy.float32'>"
      ],
      "execution_count": null,
      "outputs": []
    },
    {
      "cell_type": "markdown",
      "metadata": {
        "id": "_extM4NSsOdV",
        "colab_type": "text"
      },
      "source": [
        "# 모델 다운로드"
      ]
    },
    {
      "cell_type": "code",
      "metadata": {
        "id": "ZPZPpSKQPBNe",
        "colab_type": "code",
        "colab": {}
      },
      "source": [
        "from google.colab import files\n",
        "try: \n",
        "  files.download(f\"{EXPORT_PATH}{MODEL_NAME}_model.tflite\")\n",
        "except:\n",
        "  pass"
      ],
      "execution_count": null,
      "outputs": []
    }
  ]
}